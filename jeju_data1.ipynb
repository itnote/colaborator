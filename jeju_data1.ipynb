 import numpy as np
from google.colab import drive
import pandas as pd
import json


mydate = pd.read_excel('https://github.com/itnote/colaborator/blob/master/data/6500000_%EC%A0%9C%EC%A3%BC%ED%8A%B9%EB%B3%84%EC%9E%90%EC%B9%98%EB%8F%84_07_23_02_P_%EC%9C%A0%ED%9D%A5%EC%A3%BC%EC%A0%90%EC%98%81%EC%97%85.xlsx?raw=true')
#   mydate.head()

# # ratings = pd.read_csv('https://github.com/kairess/movie_recommendation_engine/blob/master/the-movies-dataset/ratings_small.csv?raw=true')
#
# pre_sale = pd.read_csv('https://s3.ap-northeast-2.amazonaws.com/todaycodes/%E1%84%8C%E1%85%A5%E1%86%AB%E1%84%80%E1%85%AE%E1%86%A8_%E1%84%91%E1%85%A7%E1%86%BC%E1%84%80%E1%85%B2%E1%86%AB_%E1%84%87%E1%85%AE%E1%86%AB%E1%84%8B%E1%85%A3%E1%86%BC%E1%84%80%E1%85%A1%E1%84%80%E1%85%A7%E1%86%A8_2018.6%E1%84%8B%E1%85%AF%E1%86%AF_.csv', encoding='euc-kr')
# pre_sale.shape
